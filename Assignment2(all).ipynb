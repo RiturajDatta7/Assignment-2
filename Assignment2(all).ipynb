{
  "nbformat": 4,
  "nbformat_minor": 0,
  "metadata": {
    "colab": {
      "provenance": []
    },
    "kernelspec": {
      "name": "python3",
      "display_name": "Python 3"
    },
    "language_info": {
      "name": "python"
    }
  },
  "cells": [
    {
      "cell_type": "markdown",
      "source": [
        "Assignment-2: List | Tuples | Dictionaries"
      ],
      "metadata": {
        "id": "ZpipsPVwlJNw"
      }
    },
    {
      "cell_type": "markdown",
      "source": [
        "1) Write a Python program to get a list, sorted in increasing order by the last element in each tuple from a given list of non-empty tuples\n"
      ],
      "metadata": {
        "id": "8Xy84O1plIrS"
      }
    },
    {
      "cell_type": "code",
      "execution_count": 1,
      "metadata": {
        "colab": {
          "base_uri": "https://localhost:8080/"
        },
        "id": "F0285oe0lBcy",
        "outputId": "2093550c-b55a-4fc9-e13b-83722e5596a4"
      },
      "outputs": [
        {
          "output_type": "stream",
          "name": "stdout",
          "text": [
            "[(2, 1), (1, 2), (2, 3), (4, 4), (2, 5)]\n"
          ]
        }
      ],
      "source": [
        "# Sample list of tuples\n",
        "sample_list = [(2, 5), (1, 2), (4, 4), (2, 3), (2, 1)]\n",
        "\n",
        "# Define a custom key function to sort by the last element of each tuple\n",
        "def sort_by_last_element(tuple_item):\n",
        "    return tuple_item[-1]\n",
        "\n",
        "# Use the sorted() function with the custom key function to sort the list\n",
        "sorted_list = sorted(sample_list, key=sort_by_last_element)\n",
        "\n",
        "# Print the sorted list\n",
        "print(sorted_list)"
      ]
    },
    {
      "cell_type": "markdown",
      "source": [
        "2) Write a Python program to print a dictionary whose keys should be the alphabet from a-z and the value should be corresponding ASCII values\n"
      ],
      "metadata": {
        "id": "MBqvurLllXYV"
      }
    },
    {
      "cell_type": "code",
      "source": [
        "# Initialize an empty dictionary\n",
        "ascii_dict = {}\n",
        "\n",
        "# Iterate through the alphabet from 'a' to 'z'\n",
        "for char in range(ord('a'), ord('z') + 1):\n",
        "    # Add the character as the key and its ASCII value as the value to the dictionary\n",
        "    ascii_dict[chr(char)] = char\n",
        "\n",
        "# Print the resulting dictionary\n",
        "print(ascii_dict)"
      ],
      "metadata": {
        "colab": {
          "base_uri": "https://localhost:8080/"
        },
        "id": "dEpQpFu-lSB1",
        "outputId": "43ced597-6486-41ac-d851-d9ed527430c9"
      },
      "execution_count": 2,
      "outputs": [
        {
          "output_type": "stream",
          "name": "stdout",
          "text": [
            "{'a': 97, 'b': 98, 'c': 99, 'd': 100, 'e': 101, 'f': 102, 'g': 103, 'h': 104, 'i': 105, 'j': 106, 'k': 107, 'l': 108, 'm': 109, 'n': 110, 'o': 111, 'p': 112, 'q': 113, 'r': 114, 's': 115, 't': 116, 'u': 117, 'v': 118, 'w': 119, 'x': 120, 'y': 121, 'z': 122}\n"
          ]
        }
      ]
    },
    {
      "cell_type": "code",
      "source": [],
      "metadata": {
        "id": "1T1jeW5klanN"
      },
      "execution_count": null,
      "outputs": []
    }
  ]
}