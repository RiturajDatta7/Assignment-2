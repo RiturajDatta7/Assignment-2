{
  "nbformat": 4,
  "nbformat_minor": 0,
  "metadata": {
    "colab": {
      "provenance": []
    },
    "kernelspec": {
      "name": "python3",
      "display_name": "Python 3"
    },
    "language_info": {
      "name": "python"
    }
  },
  "cells": [
    {
      "cell_type": "markdown",
      "source": [
        "Assignment-2: List | Tuples | Dictionaries"
      ],
      "metadata": {
        "id": "pHN3mjXaAQl6"
      }
    },
    {
      "cell_type": "markdown",
      "source": [
        "1) Write a Python program to get a list, sorted in increasing order by the last element in each tuple from a given list of non-empty tuples\n"
      ],
      "metadata": {
        "id": "ZxWpoFe5AKIN"
      }
    },
    {
      "cell_type": "code",
      "execution_count": 1,
      "metadata": {
        "colab": {
          "base_uri": "https://localhost:8080/"
        },
        "id": "DG7SA1DH81LK",
        "outputId": "4af94eac-f23b-45fc-f39c-4436e41b9aba"
      },
      "outputs": [
        {
          "output_type": "stream",
          "name": "stdout",
          "text": [
            "[(2, 1), (1, 2), (2, 3), (4, 4), (2, 5)]\n"
          ]
        }
      ],
      "source": [
        "# Sample list of tuples\n",
        "sample_list = [(2, 5), (1, 2), (4, 4), (2, 3), (2, 1)]\n",
        "\n",
        "# Define a custom key function to sort by the last element of each tuple\n",
        "def sort_by_last_element(tuple_item):\n",
        "    return tuple_item[-1]\n",
        "\n",
        "# Use the sorted() function with the custom key function to sort the list\n",
        "sorted_list = sorted(sample_list, key=sort_by_last_element)\n",
        "\n",
        "# Print the sorted list\n",
        "print(sorted_list)"
      ]
    }
  ]
}