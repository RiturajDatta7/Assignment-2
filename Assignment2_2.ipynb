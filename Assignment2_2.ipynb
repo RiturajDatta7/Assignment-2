{
  "nbformat": 4,
  "nbformat_minor": 0,
  "metadata": {
    "colab": {
      "provenance": []
    },
    "kernelspec": {
      "name": "python3",
      "display_name": "Python 3"
    },
    "language_info": {
      "name": "python"
    }
  },
  "cells": [
    {
      "cell_type": "markdown",
      "source": [
        "\n",
        "Assignment-2: List | Tuples | Dictionaries"
      ],
      "metadata": {
        "id": "6cQlIPzSI-gJ"
      }
    },
    {
      "cell_type": "markdown",
      "source": [
        "Write a Python program to print a dictionary whose keys should be the alphabet from a-z and the value should be corresponding ASCII values\n"
      ],
      "metadata": {
        "id": "RX7iQGxiI-Qi"
      }
    },
    {
      "cell_type": "code",
      "execution_count": 1,
      "metadata": {
        "colab": {
          "base_uri": "https://localhost:8080/"
        },
        "id": "HSYy_yPMI3dN",
        "outputId": "7bbd66f0-ed0b-4013-b6f5-f86ebfa94634"
      },
      "outputs": [
        {
          "output_type": "stream",
          "name": "stdout",
          "text": [
            "{'a': 97, 'b': 98, 'c': 99, 'd': 100, 'e': 101, 'f': 102, 'g': 103, 'h': 104, 'i': 105, 'j': 106, 'k': 107, 'l': 108, 'm': 109, 'n': 110, 'o': 111, 'p': 112, 'q': 113, 'r': 114, 's': 115, 't': 116, 'u': 117, 'v': 118, 'w': 119, 'x': 120, 'y': 121, 'z': 122}\n"
          ]
        }
      ],
      "source": [
        "# Initialize an empty dictionary\n",
        "ascii_dict = {}\n",
        "\n",
        "# Iterate through the alphabet from 'a' to 'z'\n",
        "for char in range(ord('a'), ord('z') + 1):\n",
        "    # Add the character as the key and its ASCII value as the value to the dictionary\n",
        "    ascii_dict[chr(char)] = char\n",
        "\n",
        "# Print the resulting dictionary\n",
        "print(ascii_dict)"
      ]
    },
    {
      "cell_type": "code",
      "source": [],
      "metadata": {
        "id": "5JHF0o-cj8yW"
      },
      "execution_count": null,
      "outputs": []
    }
  ]
}